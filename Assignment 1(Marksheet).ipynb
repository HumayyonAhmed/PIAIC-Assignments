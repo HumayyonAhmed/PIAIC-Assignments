{
 "cells": [
  {
   "cell_type": "code",
   "execution_count": 1,
   "metadata": {},
   "outputs": [
    {
     "name": "stdout",
     "output_type": "stream",
     "text": [
      "Enter your marks of English: 57\n",
      "Enter your marks of Urdu: 98\n",
      "Enter your marks of Maths: 79\n",
      "Enter your marks of Physics: 74\n",
      "Enter your marks of Computer: 91\n",
      "\n",
      "\n",
      "*********************************************************\n",
      "Subjects\tTotal\tObtained Marks\t\tGrade\n",
      "*********************************************************\n",
      "English\t\t100\t\t57\t\tD\n",
      "Urdu\t\t100\t\t98\t\tA+\n",
      "Maths\t\t100\t\t79\t\tB\n",
      "Physics\t\t100\t\t74\t\tB\n",
      "Computer\t\t100\t\t91\t\tA+\n",
      "*********************************************************\n",
      "Total Marks Obtained: 399 Out of 500\n",
      "Percentage: 79.80000000000001\n",
      "Overall Grade: F\n",
      "*********************************************************\n"
     ]
    }
   ],
   "source": [
    "#----------Variables----------\n",
    "subjects = [\"English\", \"Urdu\", \"Maths\", \"Physics\", \"Computer\"]\n",
    "marks_obtained = []\n",
    "grades = []\n",
    "total = 0 \n",
    "percentage = 0.0\n",
    "overall_grade  = \"\"\n",
    "marks = 0\n",
    "\n",
    "#---------Taking inputs---------\n",
    "for i in range(len(subjects)):\n",
    "    marks = int(input(\"Enter your marks of \"+subjects[i]+\": \"))\n",
    "    while (marks <=100 and marks >=0) == False:\n",
    "        print(\"Error! Please input number between 0 to 100.\")\n",
    "        marks = int(input(\"Enter your marks of \"+subjects[i]+\": \"))\n",
    "    marks_obtained.append(marks)\n",
    "        \n",
    "#---------Calculations---------\n",
    "for m in range(len(marks_obtained)):\n",
    "    total += marks_obtained[m]    \n",
    "    \n",
    "percentage = total/500 * 100\n",
    "\n",
    "for i in range(len(marks_obtained)):\n",
    "    if(marks_obtained[i] >= 80 and marks_obtained[i] <= 100):\n",
    "        grades.append(\"A+\")\n",
    "    elif(marks_obtained[i] >= 70 and marks_obtained[i] <= 79):\n",
    "        grades.append(\"B\")\n",
    "    elif(marks_obtained[i] >= 60 and marks_obtained[i] <= 69):\n",
    "        grades.append(\"C\")\n",
    "    elif(marks_obtained[i] >= 50 and marks_obtained[i] <= 59):\n",
    "        grades.append(\"D\")\n",
    "    elif(marks_obtained[i] >= 40 and marks_obtained[i] <= 49):\n",
    "        grades.append(\"E\")\n",
    "    else:\n",
    "        grades.append(\"F\")\n",
    "\n",
    "if(percentage >= 80 and percentage <= 100):\n",
    "    overall_grade = \"A+\"\n",
    "elif(percentage >= 70 and percentage <= 79):\n",
    "    overall_grade = \"B\"\n",
    "elif(percentage >= 60 and percentage <= 69):\n",
    "    overall_grade = \"C\"\n",
    "elif(percentage >= 50 and percentage <= 59):\n",
    "    overall_grade = \"D\"\n",
    "elif(percentage >= 40 and percentage <= 49):\n",
    "    overall_grade = \"E\"\n",
    "else:\n",
    "    overall_grade = \"F\"\n",
    "\n",
    "#------------Printing Results--------------\n",
    "\n",
    "print(\"\\n\\n*********************************************************\")\n",
    "print(\"Subjects\\tTotal\\tObtained Marks\\t\\tGrade\")\n",
    "print(\"*********************************************************\")\n",
    "for i in range(len(subjects)):\n",
    "    print(subjects[i]+\"\\t\\t100\\t\\t\"+str(marks_obtained[i])+\"\\t\\t\"+str(grades[i]))\n",
    "print(\"*********************************************************\")\n",
    "print(\"Total Marks Obtained: \"+str(total)+\" Out of 500\")\n",
    "print(\"Percentage: \"+str(percentage))\n",
    "print(\"Overall Grade: \"+overall_grade)\n",
    "print(\"*********************************************************\")"
   ]
  },
  {
   "cell_type": "code",
   "execution_count": null,
   "metadata": {},
   "outputs": [],
   "source": []
  },
  {
   "cell_type": "code",
   "execution_count": null,
   "metadata": {},
   "outputs": [],
   "source": []
  },
  {
   "cell_type": "code",
   "execution_count": null,
   "metadata": {},
   "outputs": [],
   "source": []
  }
 ],
 "metadata": {
  "kernelspec": {
   "display_name": "Python 3",
   "language": "python",
   "name": "python3"
  },
  "language_info": {
   "codemirror_mode": {
    "name": "ipython",
    "version": 3
   },
   "file_extension": ".py",
   "mimetype": "text/x-python",
   "name": "python",
   "nbconvert_exporter": "python",
   "pygments_lexer": "ipython3",
   "version": "3.7.3"
  }
 },
 "nbformat": 4,
 "nbformat_minor": 2
}
