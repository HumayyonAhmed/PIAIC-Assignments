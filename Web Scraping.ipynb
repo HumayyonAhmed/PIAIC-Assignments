{
 "cells": [
  {
   "cell_type": "code",
   "execution_count": 2,
   "metadata": {},
   "outputs": [
    {
     "name": "stdout",
     "output_type": "stream",
     "text": [
      "Mobile Detials are Saved in csv file. Open file to view it.\n"
     ]
    }
   ],
   "source": [
    "import requests \n",
    "from bs4 import BeautifulSoup\n",
    "import csv\n",
    "\n",
    "URL = \"https://www.whatmobile.com.pk/\"\n",
    "r = requests.get(URL) \n",
    "soup = BeautifulSoup(r.content, 'html5lib') \n",
    "\n",
    "products = soup.findAll(\"li\", attrs = {'class': 'product'})\n",
    "mobiles = []\n",
    "\n",
    "for product in products:\n",
    "    mobile = {}\n",
    "    mobile['Name'] = product.find('a',attrs = {'class': 'BiggerText'})['title']\n",
    "    mobile['Price'] = product.a['title']\n",
    "    mobile['Img'] = URL+product.img['src']\n",
    "    mobiles.append(mobile)\n",
    "\n",
    "print(\"Mobile Detials are Saved in csv file. Open file to view it.\")\n",
    "filename = 'mobiledetails.csv'\n",
    "with open(filename, 'w') as f:\n",
    "    w = csv.DictWriter(f,['Name','Price','Img'], dialect=\"excel\")\n",
    "    w.writeheader()\n",
    "    w.writerows(mobiles)"
   ]
  },
  {
   "cell_type": "code",
   "execution_count": null,
   "metadata": {},
   "outputs": [],
   "source": []
  }
 ],
 "metadata": {
  "kernelspec": {
   "display_name": "Python 3",
   "language": "python",
   "name": "python3"
  },
  "language_info": {
   "codemirror_mode": {
    "name": "ipython",
    "version": 3
   },
   "file_extension": ".py",
   "mimetype": "text/x-python",
   "name": "python",
   "nbconvert_exporter": "python",
   "pygments_lexer": "ipython3",
   "version": "3.7.3"
  }
 },
 "nbformat": 4,
 "nbformat_minor": 2
}
