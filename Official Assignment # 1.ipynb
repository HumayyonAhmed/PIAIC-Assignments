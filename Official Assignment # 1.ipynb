{
 "cells": [
  {
   "cell_type": "code",
   "execution_count": 3,
   "metadata": {
    "collapsed": true
   },
   "outputs": [
    {
     "name": "stdout",
     "output_type": "stream",
     "text": [
      "Input Radius: 0.5\n",
      "Area of Circle with radius 0.5  is 0.7853981633974483\n"
     ]
    }
   ],
   "source": [
    "### 1. Calculate Area Of A Circle\n",
    "import math\n",
    "radius = float(input(\"Input Radius: \"))\n",
    "area = math.pi * (math.pow(radius,2))\n",
    "print(\"Area of Circle with radius\",radius,\" is\",area)"
   ]
  },
  {
   "cell_type": "code",
   "execution_count": 9,
   "metadata": {},
   "outputs": [
    {
     "name": "stdout",
     "output_type": "stream",
     "text": [
      "Enter Number: -1\n",
      "Negative Number Entered\n"
     ]
    }
   ],
   "source": [
    "### 2. Check number either positive or negative\n",
    "num = float(input(\"Enter Number: \"))\n",
    "if num > 0:\n",
    "    print(\"Positive Number Entered\")\n",
    "elif num == 0:\n",
    "    print(\"Zero Entered\")\n",
    "else:\n",
    "    print(\"Negative Number Entered\")"
   ]
  },
  {
   "cell_type": "code",
   "execution_count": 14,
   "metadata": {
    "collapsed": true
   },
   "outputs": [
    {
     "name": "stdout",
     "output_type": "stream",
     "text": [
      "Enter Numerator: 2\n",
      "Enter Denomenator: 1\n",
      "Number 2  is completely divisible by 1\n"
     ]
    }
   ],
   "source": [
    "### 3. Divisibility Check of two numbers\n",
    "num = int(input(\"Enter Numerator: \"))\n",
    "den = int(input(\"Enter Denomenator: \"))\n",
    "reminder = num % den\n",
    "\n",
    "if reminder == 0:\n",
    "    print(\"Number\",num,\" is completely divisible by\",den)\n",
    "else: \n",
    "    print(\"Number\",num,\" is not completely divisible by\",den)"
   ]
  },
  {
   "cell_type": "code",
   "execution_count": 35,
   "metadata": {
    "collapsed": true
   },
   "outputs": [
    {
     "name": "stdout",
     "output_type": "stream",
     "text": [
      "Enter a date in (dd/mm/yy) format: 12/12/2019\n",
      "Enter a date in (dd/mm/yy) format: 16/12/2019\n",
      "There are 4  days in between 12/12/2019  and 16/12/2019\n"
     ]
    }
   ],
   "source": [
    "### 4. Days Calculator\n",
    "from datetime import datetime\n",
    "start_date = input(\"Enter a date in (dd/mm/yy) format: \")\n",
    "end_date = input(\"Enter a date in (dd/mm/yy) format: \")\n",
    "\n",
    "start_datef = datetime.strptime(start_date,\"%d/%m/%Y\")\n",
    "end_datef = datetime.strptime(end_date,\"%d/%m/%Y\")\n",
    "days = start_datef.date() - end_datef.date()\n",
    "print(\"There are\",abs(days.days),\" days in between\",start_date, \" and\",end_date)"
   ]
  },
  {
   "cell_type": "code",
   "execution_count": 39,
   "metadata": {
    "collapsed": true
   },
   "outputs": [
    {
     "name": "stdout",
     "output_type": "stream",
     "text": [
      "Enter Radius of Sphere: 1\n",
      "Volume of the Sphere with Radius 1.0  is 4.1887902047863905\n"
     ]
    }
   ],
   "source": [
    "### 5. Calculate Volume of a Sphere\n",
    "import math\n",
    "radius = float(input(\"Enter Radius of Sphere: \"))\n",
    "volume = ((4/3) * math.pi * (math.pow(radius, 3)))\n",
    "print(\"Volume of the Sphere with Radius\", radius, \" is\", volume)"
   ]
  },
  {
   "cell_type": "code",
   "execution_count": 41,
   "metadata": {
    "collapsed": true
   },
   "outputs": [
    {
     "name": "stdout",
     "output_type": "stream",
     "text": [
      "Enter String: Hi\n",
      "How many copies of String you need: 4\n",
      "4 Copies of Hi are HiHiHiHi\n"
     ]
    }
   ],
   "source": [
    "### 6. Copy string n times\n",
    "input_str = input(\"Enter String: \")\n",
    "copies = int(input(\"How many copies of String you need: \"))\n",
    "result = input_str * copies\n",
    "print(copies, \"Copies of\", input_str,\"are\", result)"
   ]
  },
  {
   "cell_type": "code",
   "execution_count": 44,
   "metadata": {
    "collapsed": true
   },
   "outputs": [
    {
     "name": "stdout",
     "output_type": "stream",
     "text": [
      "Enter number: 4\n",
      "4 is Even\n"
     ]
    }
   ],
   "source": [
    "### 7. Check if number is Even or Odd\n",
    "num = int(input(\"Enter number: \"))\n",
    "if num % 2 == 0:\n",
    "    print(num, \"is Even\")\n",
    "else:\n",
    "    print(num, \"is Odd\")\n"
   ]
  },
  {
   "cell_type": "code",
   "execution_count": 71,
   "metadata": {
    "collapsed": true
   },
   "outputs": [
    {
     "name": "stdout",
     "output_type": "stream",
     "text": [
      "Enter a character: A\n",
      "Letter A is Vowel\n"
     ]
    }
   ],
   "source": [
    "### 8. Vowel Tester\n",
    "vowels = (\"a\",\"e\",\"i\",\"o\",\"u\")\n",
    "letter = input(\"Enter a character: \")\n",
    "flag = False\n",
    "\n",
    "for vowel in vowels:\n",
    "    if letter.lower() == vowel:\n",
    "        flag = True\n",
    "        break\n",
    "\n",
    "if flag == True:\n",
    "    print(\"Letter\",letter,\"is Vowel\")\n",
    "else:\n",
    "    print(\"Letter\",letter,\"is not Vowel\")"
   ]
  },
  {
   "cell_type": "code",
   "execution_count": 74,
   "metadata": {
    "collapsed": true
   },
   "outputs": [
    {
     "name": "stdout",
     "output_type": "stream",
     "text": [
      "Enter magnitude of Triangle Base: 4\n",
      "Enter magnitude of Triangle Height: 4\n",
      "Area of a Triangle with Height 4 and Base 4 is 8\n"
     ]
    }
   ],
   "source": [
    "### 9. Triangle area\n",
    "base = int(input(\"Enter magnitude of Triangle Base: \"))\n",
    "height = int(input(\"Enter magnitude of Triangle Height: \"))\n",
    "area = int((base * height) / 2)\n",
    "print(\"Area of a Triangle with Height\",height,\"and Base\",base,\"is\",area)"
   ]
  },
  {
   "cell_type": "code",
   "execution_count": 76,
   "metadata": {
    "collapsed": true
   },
   "outputs": [
    {
     "name": "stdout",
     "output_type": "stream",
     "text": [
      "Please enter principal amount:10000\n",
      "Please Enter Rate of interest in %:0.1\n",
      "Enter number of years for investment:5\n",
      "After  5.0  years your principal amount  10000  over an interest rate of  0.001  % will be 10050\n"
     ]
    }
   ],
   "source": [
    "### 10. Calculate Interest    A = P (1 + r/n) (nt)\n",
    "import math\n",
    "P = int(input(\"Please enter principal amount:\"))\n",
    "r = float(input(\"Please Enter Rate of interest in %:\"))/100\n",
    "t = float(input(\"Enter number of years for investment:\"))\n",
    "A = P * math.pow((1 + (r/12)), 12*t)\n",
    "\n",
    "print(\"After \",t,\" years your principal amount \",P,\" over an interest rate of \",r,\" % will be\",int(A))"
   ]
  },
  {
   "cell_type": "code",
   "execution_count": 13,
   "metadata": {
    "collapsed": true
   },
   "outputs": [
    {
     "name": "stdout",
     "output_type": "stream",
     "text": [
      "Enter Co-ordinate for x1:2\n",
      "Enter Co-ordinate for y1:4\n",
      "Enter Co-ordinate for x2:2\n",
      "Enter Co-ordinate for y2:2\n",
      "Distance between points (2,4) and (2,2) is 2\n"
     ]
    }
   ],
   "source": [
    "### 11. Euclidean distance\n",
    "x1 = int(input(\"Enter Co-ordinate for x1:\"))\n",
    "y1 = int(input(\"Enter Co-ordinate for y1:\"))\n",
    "x2 = int(input(\"Enter Co-ordinate for x2:\"))\n",
    "y2 = int(input(\"Enter Co-ordinate for y2:\"))\n",
    "d = math.sqrt(math.pow((x2-x1), 2) + math.pow((y2-y1), 2))\n",
    "print(\"Distance between points ({0},{1}) and ({2},{3}) is {4}\".format(x1, y1, x2, y2, int(d)))"
   ]
  },
  {
   "cell_type": "code",
   "execution_count": 1,
   "metadata": {
    "collapsed": true
   },
   "outputs": [
    {
     "name": "stdout",
     "output_type": "stream",
     "text": [
      "Enter Height in Feet:5\n",
      "There are 152.4 Cm in 5.0 ft\n"
     ]
    }
   ],
   "source": [
    "### 12. Feet to Centimeter Converter\n",
    "feet = float(input(\"Enter Height in Feet:\"))\n",
    "cm = feet * 30.48\n",
    "print(\"There are\",cm,\"Cm in\",feet,\"ft\")"
   ]
  },
  {
   "cell_type": "code",
   "execution_count": 1,
   "metadata": {
    "collapsed": true
   },
   "outputs": [
    {
     "name": "stdout",
     "output_type": "stream",
     "text": [
      "Enter Height in Cm:180\n",
      "Enter Weight in Kg:75\n",
      "Your BMI is 23.148148148148145\n"
     ]
    }
   ],
   "source": [
    "### 13. BMI Calculator\n",
    "import math\n",
    "height = float(input(\"Enter Height in Cm:\"))\n",
    "weight = float(input(\"Enter Weight in Kg:\"))\n",
    "bmi = (weight / math.pow(height, 2) * 10000)\n",
    "print(\"Your BMI is\",bmi)"
   ]
  },
  {
   "cell_type": "code",
   "execution_count": 10,
   "metadata": {
    "collapsed": true
   },
   "outputs": [
    {
     "name": "stdout",
     "output_type": "stream",
     "text": [
      "Enter value of n:5\n",
      "Sum of n Positive integers till 5 is 15\n"
     ]
    }
   ],
   "source": [
    "### 14. Sum of n Positive Integers\n",
    "num = int(input(\"Enter value of n:\"))\n",
    "result = int((num * (num + 1)) / 2)\n",
    "print(\"Sum of n Positive integers till {0} is {1}\".format(str(num), str(result)))"
   ]
  },
  {
   "cell_type": "code",
   "execution_count": 21,
   "metadata": {
    "collapsed": true
   },
   "outputs": [
    {
     "name": "stdout",
     "output_type": "stream",
     "text": [
      "Enter a number:1234\n",
      "Sum of 1 + 2 + 3 + 4  is 10\n"
     ]
    }
   ],
   "source": [
    "### 15. Digits Sum of a Number\n",
    "num = input(\"Enter a number:\")\n",
    "result = 0\n",
    "nump = \"\"\n",
    "for digits in num:\n",
    "    result += int(digits)\n",
    "for i in range(len(num)):\n",
    "    nump += num[i] + \" + \"\n",
    "print(\"Sum of {0} is {1}\".format(nump[:len(nump)-2], result))"
   ]
  },
  {
   "cell_type": "code",
   "execution_count": 24,
   "metadata": {
    "collapsed": true
   },
   "outputs": [
    {
     "name": "stdout",
     "output_type": "stream",
     "text": [
      "Enter a decimal number: 5\n",
      "Binary Representation of 5 is 101\n"
     ]
    }
   ],
   "source": [
    "### 16. Decimal to Binary Converter\n",
    "deci = int(input(\"Enter a decimal number: \"))\n",
    "print(\"Binary Representation of {0} is {1:b}\".format(deci,deci))"
   ]
  },
  {
   "cell_type": "code",
   "execution_count": 28,
   "metadata": {
    "collapsed": true
   },
   "outputs": [
    {
     "name": "stdout",
     "output_type": "stream",
     "text": [
      "Enter a Binary number:1101\n",
      "Decimal Representation of 1101 is 13\n"
     ]
    }
   ],
   "source": [
    "### 17. Binary to Decimal Converter\n",
    "binary = input(\"Enter a Binary number:\")\n",
    "deci = int(binary, 2)\n",
    "print(\"Decimal Representation of {0} is {1}\".format(binary, deci))"
   ]
  },
  {
   "cell_type": "code",
   "execution_count": 32,
   "metadata": {
    "collapsed": true
   },
   "outputs": [
    {
     "name": "stdout",
     "output_type": "stream",
     "text": [
      "Enter text:QuickBrownFoxJumpsovertheDog\n",
      "Vowels: 9\n",
      "Consonants: 19\n"
     ]
    }
   ],
   "source": [
    "### 18. Vowel and Consonants Counter\n",
    "vowels = (\"a\",\"e\",\"i\",\"o\",\"u\")\n",
    "no_of_vowels = 0\n",
    "no_of_consonants = 0\n",
    "text = input(\"Enter text:\")\n",
    "\n",
    "for ch in text:\n",
    "    if ch in vowels:\n",
    "        no_of_vowels += 1\n",
    "    else:\n",
    "        no_of_consonants += 1\n",
    "\n",
    "print(\"Vowels:\", no_of_vowels)\n",
    "print(\"Consonants:\", no_of_consonants)"
   ]
  },
  {
   "cell_type": "code",
   "execution_count": 58,
   "metadata": {
    "collapsed": true
   },
   "outputs": [
    {
     "name": "stdout",
     "output_type": "stream",
     "text": [
      "Enter text:Hello\n",
      "Text Hello is not Palindrome\n"
     ]
    }
   ],
   "source": [
    "### 19. Palindrome tester\n",
    "text = input(\"Enter text:\")\n",
    "rev_txt = \"\"\n",
    "for i in range(len(text)-1,-1,-1):\n",
    "    rev_txt += text[i]\n",
    "if rev_txt.lower() == text.lower():\n",
    "    print(\"Text {0} is Palindrome\".format(text))\n",
    "else:\n",
    "    print(\"Text {0} is not Palindrome\".format(text))"
   ]
  },
  {
   "cell_type": "code",
   "execution_count": 65,
   "metadata": {
    "collapsed": true
   },
   "outputs": [
    {
     "name": "stdout",
     "output_type": "stream",
     "text": [
      "Enter text:Python 3.2\n",
      "Numbers = 2\n",
      "Alphabets = 6\n",
      "Special Characters = 1\n",
      "Spaces = 1\n"
     ]
    }
   ],
   "source": [
    "### 20. Count Alphabets, Numbers and Special Characters\n",
    "alpha = 0\n",
    "num = 0\n",
    "char = 0\n",
    "space = 0\n",
    "txt = input(\"Enter text:\")\n",
    "for ch in txt:\n",
    "    if ch.isalpha():\n",
    "        alpha += 1\n",
    "    if ch.isdigit():\n",
    "        num += 1\n",
    "    if ch.isspace():\n",
    "        space += 1\n",
    "    if not ch.isalpha() and not ch.isdigit() and not ch.isspace():\n",
    "        char += 1\n",
    "print(\"Numbers = {0}\\nAlphabets = {1}\\nSpecial Characters = {2}\\nSpaces = {3}\".format(num, alpha, char, space)) "
   ]
  },
  {
   "cell_type": "code",
   "execution_count": 84,
   "metadata": {
    "collapsed": true
   },
   "outputs": [
    {
     "name": "stdout",
     "output_type": "stream",
     "text": [
      "\n",
      "*\n",
      "**\n",
      "***\n",
      "****\n",
      "*****\n",
      "******\n",
      "*****\n",
      "****\n",
      "***\n",
      "**\n",
      "*\n"
     ]
    }
   ],
   "source": [
    "### 21. Write a Python program to construct the following pattern\n",
    "\n",
    "for x in range(6):\n",
    "    for y in range(x):\n",
    "        print(\"*\",end='')\n",
    "    print(\"\\n\",end='')\n",
    "for x in range(6,0,-1):\n",
    "    for y in range(x):\n",
    "        print(\"*\",end='')\n",
    "    print(\"\\n\",end='')"
   ]
  },
  {
   "cell_type": "code",
   "execution_count": 89,
   "metadata": {
    "collapsed": true
   },
   "outputs": [
    {
     "name": "stdout",
     "output_type": "stream",
     "text": [
      "\n",
      "1\n",
      "12\n",
      "123\n",
      "1234\n",
      "12345\n",
      "1234\n",
      "123\n",
      "12\n",
      "1\n"
     ]
    }
   ],
   "source": [
    "### 22. Write a Python program to construct the following pattern\n",
    "\n",
    "for x in range(5):\n",
    "    for y in range(x):\n",
    "        print(y+1,end='')\n",
    "    print(\"\\n\",end='')\n",
    "for x in range(5,0,-1):\n",
    "    for y in range(x):\n",
    "        print(y+1,end='')\n",
    "    print(\"\\n\",end='')"
   ]
  },
  {
   "cell_type": "code",
   "execution_count": 93,
   "metadata": {
    "collapsed": true
   },
   "outputs": [
    {
     "name": "stdout",
     "output_type": "stream",
     "text": [
      "\n",
      "1\n",
      "22\n",
      "333\n",
      "4444\n",
      "55555\n",
      "666666\n",
      "7777777\n",
      "88888888\n",
      "999999999\n"
     ]
    }
   ],
   "source": [
    "### 23. Write a Python program to construct the following pattern\n",
    "\n",
    "for x in range(10):\n",
    "    for y in range(x):\n",
    "        print(x,end='')\n",
    "    print(\"\\n\",end='')"
   ]
  }
 ],
 "metadata": {
  "kernelspec": {
   "display_name": "Python 3",
   "language": "python",
   "name": "python3"
  },
  "language_info": {
   "codemirror_mode": {
    "name": "ipython",
    "version": 3
   },
   "file_extension": ".py",
   "mimetype": "text/x-python",
   "name": "python",
   "nbconvert_exporter": "python",
   "pygments_lexer": "ipython3",
   "version": "3.7.3"
  }
 },
 "nbformat": 4,
 "nbformat_minor": 2
}
